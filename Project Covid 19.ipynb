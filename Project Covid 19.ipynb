{
 "cells": [
  {
   "cell_type": "code",
   "execution_count": 1,
   "metadata": {},
   "outputs": [],
   "source": [
    "import numpy as np\n",
    "import pandas as pd\n",
    "from matplotlib import pyplot as plt\n",
    "import seaborn as sns\n",
    "import datetime as dt"
   ]
  },
  {
   "cell_type": "markdown",
   "metadata": {},
   "source": [
    "# Reading file"
   ]
  },
  {
   "cell_type": "code",
   "execution_count": 2,
   "metadata": {},
   "outputs": [
    {
     "data": {
      "text/html": [
       "<div>\n",
       "<style scoped>\n",
       "    .dataframe tbody tr th:only-of-type {\n",
       "        vertical-align: middle;\n",
       "    }\n",
       "\n",
       "    .dataframe tbody tr th {\n",
       "        vertical-align: top;\n",
       "    }\n",
       "\n",
       "    .dataframe thead th {\n",
       "        text-align: right;\n",
       "    }\n",
       "</style>\n",
       "<table border=\"1\" class=\"dataframe\">\n",
       "  <thead>\n",
       "    <tr style=\"text-align: right;\">\n",
       "      <th></th>\n",
       "      <th>Sno</th>\n",
       "      <th>Date</th>\n",
       "      <th>Time</th>\n",
       "      <th>State/UnionTerritory</th>\n",
       "      <th>ConfirmedIndianNational</th>\n",
       "      <th>ConfirmedForeignNational</th>\n",
       "      <th>Cured</th>\n",
       "      <th>Deaths</th>\n",
       "      <th>Confirmed</th>\n",
       "    </tr>\n",
       "  </thead>\n",
       "  <tbody>\n",
       "    <tr>\n",
       "      <th>0</th>\n",
       "      <td>1</td>\n",
       "      <td>2020-01-30</td>\n",
       "      <td>6:00 PM</td>\n",
       "      <td>Kerala</td>\n",
       "      <td>1</td>\n",
       "      <td>0</td>\n",
       "      <td>0</td>\n",
       "      <td>0</td>\n",
       "      <td>1</td>\n",
       "    </tr>\n",
       "    <tr>\n",
       "      <th>1</th>\n",
       "      <td>2</td>\n",
       "      <td>2020-01-31</td>\n",
       "      <td>6:00 PM</td>\n",
       "      <td>Kerala</td>\n",
       "      <td>1</td>\n",
       "      <td>0</td>\n",
       "      <td>0</td>\n",
       "      <td>0</td>\n",
       "      <td>1</td>\n",
       "    </tr>\n",
       "    <tr>\n",
       "      <th>2</th>\n",
       "      <td>3</td>\n",
       "      <td>2020-02-01</td>\n",
       "      <td>6:00 PM</td>\n",
       "      <td>Kerala</td>\n",
       "      <td>2</td>\n",
       "      <td>0</td>\n",
       "      <td>0</td>\n",
       "      <td>0</td>\n",
       "      <td>2</td>\n",
       "    </tr>\n",
       "    <tr>\n",
       "      <th>3</th>\n",
       "      <td>4</td>\n",
       "      <td>2020-02-02</td>\n",
       "      <td>6:00 PM</td>\n",
       "      <td>Kerala</td>\n",
       "      <td>3</td>\n",
       "      <td>0</td>\n",
       "      <td>0</td>\n",
       "      <td>0</td>\n",
       "      <td>3</td>\n",
       "    </tr>\n",
       "    <tr>\n",
       "      <th>4</th>\n",
       "      <td>5</td>\n",
       "      <td>2020-02-03</td>\n",
       "      <td>6:00 PM</td>\n",
       "      <td>Kerala</td>\n",
       "      <td>3</td>\n",
       "      <td>0</td>\n",
       "      <td>0</td>\n",
       "      <td>0</td>\n",
       "      <td>3</td>\n",
       "    </tr>\n",
       "  </tbody>\n",
       "</table>\n",
       "</div>"
      ],
      "text/plain": [
       "   Sno       Date     Time State/UnionTerritory ConfirmedIndianNational  \\\n",
       "0    1 2020-01-30  6:00 PM               Kerala                       1   \n",
       "1    2 2020-01-31  6:00 PM               Kerala                       1   \n",
       "2    3 2020-02-01  6:00 PM               Kerala                       2   \n",
       "3    4 2020-02-02  6:00 PM               Kerala                       3   \n",
       "4    5 2020-02-03  6:00 PM               Kerala                       3   \n",
       "\n",
       "  ConfirmedForeignNational  Cured  Deaths  Confirmed  \n",
       "0                        0      0       0          1  \n",
       "1                        0      0       0          1  \n",
       "2                        0      0       0          2  \n",
       "3                        0      0       0          3  \n",
       "4                        0      0       0          3  "
      ]
     },
     "execution_count": 2,
     "metadata": {},
     "output_type": "execute_result"
    }
   ],
   "source": [
    "# Parse date for date format not string column\n",
    "# We want data of Days so we write dayfirst \n",
    "\n",
    "c = pd.read_csv(\"covid_19_india.csv\", parse_dates=['Date'], dayfirst= True)\n",
    "c.head()"
   ]
  },
  {
   "cell_type": "code",
   "execution_count": 3,
   "metadata": {},
   "outputs": [
    {
     "data": {
      "text/html": [
       "<div>\n",
       "<style scoped>\n",
       "    .dataframe tbody tr th:only-of-type {\n",
       "        vertical-align: middle;\n",
       "    }\n",
       "\n",
       "    .dataframe tbody tr th {\n",
       "        vertical-align: top;\n",
       "    }\n",
       "\n",
       "    .dataframe thead th {\n",
       "        text-align: right;\n",
       "    }\n",
       "</style>\n",
       "<table border=\"1\" class=\"dataframe\">\n",
       "  <thead>\n",
       "    <tr style=\"text-align: right;\">\n",
       "      <th></th>\n",
       "      <th>date</th>\n",
       "      <th>state</th>\n",
       "      <th>cured</th>\n",
       "      <th>deaths</th>\n",
       "      <th>confirmed</th>\n",
       "    </tr>\n",
       "  </thead>\n",
       "  <tbody>\n",
       "    <tr>\n",
       "      <th>9286</th>\n",
       "      <td>2020-12-09</td>\n",
       "      <td>Telengana</td>\n",
       "      <td>266120</td>\n",
       "      <td>1480</td>\n",
       "      <td>275261</td>\n",
       "    </tr>\n",
       "    <tr>\n",
       "      <th>9287</th>\n",
       "      <td>2020-12-09</td>\n",
       "      <td>Tripura</td>\n",
       "      <td>32169</td>\n",
       "      <td>373</td>\n",
       "      <td>32945</td>\n",
       "    </tr>\n",
       "    <tr>\n",
       "      <th>9288</th>\n",
       "      <td>2020-12-09</td>\n",
       "      <td>Uttarakhand</td>\n",
       "      <td>72435</td>\n",
       "      <td>1307</td>\n",
       "      <td>79141</td>\n",
       "    </tr>\n",
       "    <tr>\n",
       "      <th>9289</th>\n",
       "      <td>2020-12-09</td>\n",
       "      <td>Uttar Pradesh</td>\n",
       "      <td>528832</td>\n",
       "      <td>7967</td>\n",
       "      <td>558173</td>\n",
       "    </tr>\n",
       "    <tr>\n",
       "      <th>9290</th>\n",
       "      <td>2020-12-09</td>\n",
       "      <td>West Bengal</td>\n",
       "      <td>475425</td>\n",
       "      <td>8820</td>\n",
       "      <td>507995</td>\n",
       "    </tr>\n",
       "  </tbody>\n",
       "</table>\n",
       "</div>"
      ],
      "text/plain": [
       "           date          state   cured  deaths  confirmed\n",
       "9286 2020-12-09      Telengana  266120    1480     275261\n",
       "9287 2020-12-09        Tripura   32169     373      32945\n",
       "9288 2020-12-09    Uttarakhand   72435    1307      79141\n",
       "9289 2020-12-09  Uttar Pradesh  528832    7967     558173\n",
       "9290 2020-12-09    West Bengal  475425    8820     507995"
      ]
     },
     "execution_count": 3,
     "metadata": {},
     "output_type": "execute_result"
    }
   ],
   "source": [
    "# Keeping only required column: Selected few needed\n",
    "c=c[[\"Date\",\"State/UnionTerritory\",\"Cured\",\"Deaths\",\"Confirmed\"]]\n",
    "\n",
    "\n",
    "# Renaming for column names:\n",
    "c.columns= ['date','state','cured','deaths','confirmed']\n",
    "\n",
    "# check last 5\n",
    "c.tail()"
   ]
  },
  {
   "cell_type": "markdown",
   "metadata": {},
   "source": [
    "# Selection of data of same date"
   ]
  },
  {
   "cell_type": "code",
   "execution_count": 4,
   "metadata": {},
   "outputs": [
    {
     "data": {
      "text/html": [
       "<div>\n",
       "<style scoped>\n",
       "    .dataframe tbody tr th:only-of-type {\n",
       "        vertical-align: middle;\n",
       "    }\n",
       "\n",
       "    .dataframe tbody tr th {\n",
       "        vertical-align: top;\n",
       "    }\n",
       "\n",
       "    .dataframe thead th {\n",
       "        text-align: right;\n",
       "    }\n",
       "</style>\n",
       "<table border=\"1\" class=\"dataframe\">\n",
       "  <thead>\n",
       "    <tr style=\"text-align: right;\">\n",
       "      <th></th>\n",
       "      <th>date</th>\n",
       "      <th>state</th>\n",
       "      <th>cured</th>\n",
       "      <th>deaths</th>\n",
       "      <th>confirmed</th>\n",
       "    </tr>\n",
       "  </thead>\n",
       "  <tbody>\n",
       "    <tr>\n",
       "      <th>9256</th>\n",
       "      <td>2020-12-09</td>\n",
       "      <td>Andaman and Nicobar Islands</td>\n",
       "      <td>4647</td>\n",
       "      <td>61</td>\n",
       "      <td>4778</td>\n",
       "    </tr>\n",
       "    <tr>\n",
       "      <th>9257</th>\n",
       "      <td>2020-12-09</td>\n",
       "      <td>Andhra Pradesh</td>\n",
       "      <td>860368</td>\n",
       "      <td>7042</td>\n",
       "      <td>872839</td>\n",
       "    </tr>\n",
       "    <tr>\n",
       "      <th>9258</th>\n",
       "      <td>2020-12-09</td>\n",
       "      <td>Arunachal Pradesh</td>\n",
       "      <td>15690</td>\n",
       "      <td>55</td>\n",
       "      <td>16437</td>\n",
       "    </tr>\n",
       "    <tr>\n",
       "      <th>9259</th>\n",
       "      <td>2020-12-09</td>\n",
       "      <td>Assam</td>\n",
       "      <td>209447</td>\n",
       "      <td>997</td>\n",
       "      <td>214019</td>\n",
       "    </tr>\n",
       "    <tr>\n",
       "      <th>9260</th>\n",
       "      <td>2020-12-09</td>\n",
       "      <td>Bihar</td>\n",
       "      <td>232563</td>\n",
       "      <td>1300</td>\n",
       "      <td>239322</td>\n",
       "    </tr>\n",
       "    <tr>\n",
       "      <th>9261</th>\n",
       "      <td>2020-12-09</td>\n",
       "      <td>Chandigarh</td>\n",
       "      <td>16981</td>\n",
       "      <td>296</td>\n",
       "      <td>18239</td>\n",
       "    </tr>\n",
       "    <tr>\n",
       "      <th>9262</th>\n",
       "      <td>2020-12-09</td>\n",
       "      <td>Chhattisgarh</td>\n",
       "      <td>227158</td>\n",
       "      <td>3025</td>\n",
       "      <td>249699</td>\n",
       "    </tr>\n",
       "    <tr>\n",
       "      <th>9263</th>\n",
       "      <td>2020-12-09</td>\n",
       "      <td>Dadra and Nagar Haveli and Daman and Diu</td>\n",
       "      <td>3330</td>\n",
       "      <td>2</td>\n",
       "      <td>3351</td>\n",
       "    </tr>\n",
       "    <tr>\n",
       "      <th>9264</th>\n",
       "      <td>2020-12-09</td>\n",
       "      <td>Delhi</td>\n",
       "      <td>565039</td>\n",
       "      <td>9763</td>\n",
       "      <td>597112</td>\n",
       "    </tr>\n",
       "    <tr>\n",
       "      <th>9265</th>\n",
       "      <td>2020-12-09</td>\n",
       "      <td>Goa</td>\n",
       "      <td>46924</td>\n",
       "      <td>701</td>\n",
       "      <td>48935</td>\n",
       "    </tr>\n",
       "    <tr>\n",
       "      <th>9266</th>\n",
       "      <td>2020-12-09</td>\n",
       "      <td>Gujarat</td>\n",
       "      <td>203111</td>\n",
       "      <td>4110</td>\n",
       "      <td>221493</td>\n",
       "    </tr>\n",
       "    <tr>\n",
       "      <th>9267</th>\n",
       "      <td>2020-12-09</td>\n",
       "      <td>Haryana</td>\n",
       "      <td>232108</td>\n",
       "      <td>2624</td>\n",
       "      <td>246679</td>\n",
       "    </tr>\n",
       "    <tr>\n",
       "      <th>9268</th>\n",
       "      <td>2020-12-09</td>\n",
       "      <td>Himachal Pradesh</td>\n",
       "      <td>37871</td>\n",
       "      <td>753</td>\n",
       "      <td>46201</td>\n",
       "    </tr>\n",
       "    <tr>\n",
       "      <th>9269</th>\n",
       "      <td>2020-12-09</td>\n",
       "      <td>Jammu and Kashmir</td>\n",
       "      <td>107282</td>\n",
       "      <td>1761</td>\n",
       "      <td>114038</td>\n",
       "    </tr>\n",
       "    <tr>\n",
       "      <th>9270</th>\n",
       "      <td>2020-12-09</td>\n",
       "      <td>Jharkhand</td>\n",
       "      <td>107898</td>\n",
       "      <td>988</td>\n",
       "      <td>110639</td>\n",
       "    </tr>\n",
       "    <tr>\n",
       "      <th>9271</th>\n",
       "      <td>2020-12-09</td>\n",
       "      <td>Karnataka</td>\n",
       "      <td>858370</td>\n",
       "      <td>11880</td>\n",
       "      <td>895284</td>\n",
       "    </tr>\n",
       "    <tr>\n",
       "      <th>9272</th>\n",
       "      <td>2020-12-09</td>\n",
       "      <td>Kerala</td>\n",
       "      <td>582351</td>\n",
       "      <td>2472</td>\n",
       "      <td>644696</td>\n",
       "    </tr>\n",
       "    <tr>\n",
       "      <th>9273</th>\n",
       "      <td>2020-12-09</td>\n",
       "      <td>Ladakh</td>\n",
       "      <td>8056</td>\n",
       "      <td>122</td>\n",
       "      <td>8969</td>\n",
       "    </tr>\n",
       "    <tr>\n",
       "      <th>9274</th>\n",
       "      <td>2020-12-09</td>\n",
       "      <td>Madhya Pradesh</td>\n",
       "      <td>200664</td>\n",
       "      <td>3358</td>\n",
       "      <td>217302</td>\n",
       "    </tr>\n",
       "    <tr>\n",
       "      <th>9275</th>\n",
       "      <td>2020-12-09</td>\n",
       "      <td>Maharashtra</td>\n",
       "      <td>1737080</td>\n",
       "      <td>47827</td>\n",
       "      <td>1859367</td>\n",
       "    </tr>\n",
       "    <tr>\n",
       "      <th>9276</th>\n",
       "      <td>2020-12-09</td>\n",
       "      <td>Manipur</td>\n",
       "      <td>23166</td>\n",
       "      <td>311</td>\n",
       "      <td>26396</td>\n",
       "    </tr>\n",
       "    <tr>\n",
       "      <th>9277</th>\n",
       "      <td>2020-12-09</td>\n",
       "      <td>Meghalaya</td>\n",
       "      <td>11686</td>\n",
       "      <td>122</td>\n",
       "      <td>12410</td>\n",
       "    </tr>\n",
       "    <tr>\n",
       "      <th>9278</th>\n",
       "      <td>2020-12-09</td>\n",
       "      <td>Mizoram</td>\n",
       "      <td>3772</td>\n",
       "      <td>6</td>\n",
       "      <td>3977</td>\n",
       "    </tr>\n",
       "    <tr>\n",
       "      <th>9279</th>\n",
       "      <td>2020-12-09</td>\n",
       "      <td>Nagaland</td>\n",
       "      <td>10781</td>\n",
       "      <td>67</td>\n",
       "      <td>11479</td>\n",
       "    </tr>\n",
       "    <tr>\n",
       "      <th>9280</th>\n",
       "      <td>2020-12-09</td>\n",
       "      <td>Odisha</td>\n",
       "      <td>316970</td>\n",
       "      <td>1784</td>\n",
       "      <td>321913</td>\n",
       "    </tr>\n",
       "    <tr>\n",
       "      <th>9281</th>\n",
       "      <td>2020-12-09</td>\n",
       "      <td>Puducherry</td>\n",
       "      <td>36308</td>\n",
       "      <td>615</td>\n",
       "      <td>37311</td>\n",
       "    </tr>\n",
       "    <tr>\n",
       "      <th>9282</th>\n",
       "      <td>2020-12-09</td>\n",
       "      <td>Punjab</td>\n",
       "      <td>145093</td>\n",
       "      <td>4964</td>\n",
       "      <td>157331</td>\n",
       "    </tr>\n",
       "    <tr>\n",
       "      <th>9283</th>\n",
       "      <td>2020-12-09</td>\n",
       "      <td>Rajasthan</td>\n",
       "      <td>260773</td>\n",
       "      <td>2468</td>\n",
       "      <td>284116</td>\n",
       "    </tr>\n",
       "    <tr>\n",
       "      <th>9284</th>\n",
       "      <td>2020-12-09</td>\n",
       "      <td>Sikkim</td>\n",
       "      <td>4735</td>\n",
       "      <td>117</td>\n",
       "      <td>5215</td>\n",
       "    </tr>\n",
       "    <tr>\n",
       "      <th>9285</th>\n",
       "      <td>2020-12-09</td>\n",
       "      <td>Tamil Nadu</td>\n",
       "      <td>770378</td>\n",
       "      <td>11822</td>\n",
       "      <td>792788</td>\n",
       "    </tr>\n",
       "    <tr>\n",
       "      <th>9286</th>\n",
       "      <td>2020-12-09</td>\n",
       "      <td>Telengana</td>\n",
       "      <td>266120</td>\n",
       "      <td>1480</td>\n",
       "      <td>275261</td>\n",
       "    </tr>\n",
       "    <tr>\n",
       "      <th>9287</th>\n",
       "      <td>2020-12-09</td>\n",
       "      <td>Tripura</td>\n",
       "      <td>32169</td>\n",
       "      <td>373</td>\n",
       "      <td>32945</td>\n",
       "    </tr>\n",
       "    <tr>\n",
       "      <th>9288</th>\n",
       "      <td>2020-12-09</td>\n",
       "      <td>Uttarakhand</td>\n",
       "      <td>72435</td>\n",
       "      <td>1307</td>\n",
       "      <td>79141</td>\n",
       "    </tr>\n",
       "    <tr>\n",
       "      <th>9289</th>\n",
       "      <td>2020-12-09</td>\n",
       "      <td>Uttar Pradesh</td>\n",
       "      <td>528832</td>\n",
       "      <td>7967</td>\n",
       "      <td>558173</td>\n",
       "    </tr>\n",
       "    <tr>\n",
       "      <th>9290</th>\n",
       "      <td>2020-12-09</td>\n",
       "      <td>West Bengal</td>\n",
       "      <td>475425</td>\n",
       "      <td>8820</td>\n",
       "      <td>507995</td>\n",
       "    </tr>\n",
       "  </tbody>\n",
       "</table>\n",
       "</div>"
      ],
      "text/plain": [
       "           date                                     state    cured  deaths  \\\n",
       "9256 2020-12-09               Andaman and Nicobar Islands     4647      61   \n",
       "9257 2020-12-09                            Andhra Pradesh   860368    7042   \n",
       "9258 2020-12-09                         Arunachal Pradesh    15690      55   \n",
       "9259 2020-12-09                                     Assam   209447     997   \n",
       "9260 2020-12-09                                     Bihar   232563    1300   \n",
       "9261 2020-12-09                                Chandigarh    16981     296   \n",
       "9262 2020-12-09                              Chhattisgarh   227158    3025   \n",
       "9263 2020-12-09  Dadra and Nagar Haveli and Daman and Diu     3330       2   \n",
       "9264 2020-12-09                                     Delhi   565039    9763   \n",
       "9265 2020-12-09                                       Goa    46924     701   \n",
       "9266 2020-12-09                                   Gujarat   203111    4110   \n",
       "9267 2020-12-09                                   Haryana   232108    2624   \n",
       "9268 2020-12-09                          Himachal Pradesh    37871     753   \n",
       "9269 2020-12-09                         Jammu and Kashmir   107282    1761   \n",
       "9270 2020-12-09                                 Jharkhand   107898     988   \n",
       "9271 2020-12-09                                 Karnataka   858370   11880   \n",
       "9272 2020-12-09                                    Kerala   582351    2472   \n",
       "9273 2020-12-09                                    Ladakh     8056     122   \n",
       "9274 2020-12-09                            Madhya Pradesh   200664    3358   \n",
       "9275 2020-12-09                               Maharashtra  1737080   47827   \n",
       "9276 2020-12-09                                   Manipur    23166     311   \n",
       "9277 2020-12-09                                 Meghalaya    11686     122   \n",
       "9278 2020-12-09                                   Mizoram     3772       6   \n",
       "9279 2020-12-09                                  Nagaland    10781      67   \n",
       "9280 2020-12-09                                    Odisha   316970    1784   \n",
       "9281 2020-12-09                                Puducherry    36308     615   \n",
       "9282 2020-12-09                                    Punjab   145093    4964   \n",
       "9283 2020-12-09                                 Rajasthan   260773    2468   \n",
       "9284 2020-12-09                                    Sikkim     4735     117   \n",
       "9285 2020-12-09                                Tamil Nadu   770378   11822   \n",
       "9286 2020-12-09                                 Telengana   266120    1480   \n",
       "9287 2020-12-09                                   Tripura    32169     373   \n",
       "9288 2020-12-09                               Uttarakhand    72435    1307   \n",
       "9289 2020-12-09                             Uttar Pradesh   528832    7967   \n",
       "9290 2020-12-09                               West Bengal   475425    8820   \n",
       "\n",
       "      confirmed  \n",
       "9256       4778  \n",
       "9257     872839  \n",
       "9258      16437  \n",
       "9259     214019  \n",
       "9260     239322  \n",
       "9261      18239  \n",
       "9262     249699  \n",
       "9263       3351  \n",
       "9264     597112  \n",
       "9265      48935  \n",
       "9266     221493  \n",
       "9267     246679  \n",
       "9268      46201  \n",
       "9269     114038  \n",
       "9270     110639  \n",
       "9271     895284  \n",
       "9272     644696  \n",
       "9273       8969  \n",
       "9274     217302  \n",
       "9275    1859367  \n",
       "9276      26396  \n",
       "9277      12410  \n",
       "9278       3977  \n",
       "9279      11479  \n",
       "9280     321913  \n",
       "9281      37311  \n",
       "9282     157331  \n",
       "9283     284116  \n",
       "9284       5215  \n",
       "9285     792788  \n",
       "9286     275261  \n",
       "9287      32945  \n",
       "9288      79141  \n",
       "9289     558173  \n",
       "9290     507995  "
      ]
     },
     "execution_count": 4,
     "metadata": {},
     "output_type": "execute_result"
    }
   ],
   "source": [
    "# Extracting data of last date:\n",
    "l=c[c.date =='2020-12-09']\n",
    "l"
   ]
  },
  {
   "cell_type": "markdown",
   "metadata": {},
   "source": [
    "# Confirmed case"
   ]
  },
  {
   "cell_type": "code",
   "execution_count": 5,
   "metadata": {},
   "outputs": [
    {
     "data": {
      "text/html": [
       "<div>\n",
       "<style scoped>\n",
       "    .dataframe tbody tr th:only-of-type {\n",
       "        vertical-align: middle;\n",
       "    }\n",
       "\n",
       "    .dataframe tbody tr th {\n",
       "        vertical-align: top;\n",
       "    }\n",
       "\n",
       "    .dataframe thead th {\n",
       "        text-align: right;\n",
       "    }\n",
       "</style>\n",
       "<table border=\"1\" class=\"dataframe\">\n",
       "  <thead>\n",
       "    <tr style=\"text-align: right;\">\n",
       "      <th></th>\n",
       "      <th>date</th>\n",
       "      <th>state</th>\n",
       "      <th>cured</th>\n",
       "      <th>deaths</th>\n",
       "      <th>confirmed</th>\n",
       "    </tr>\n",
       "  </thead>\n",
       "  <tbody>\n",
       "    <tr>\n",
       "      <th>9275</th>\n",
       "      <td>2020-12-09</td>\n",
       "      <td>Maharashtra</td>\n",
       "      <td>1737080</td>\n",
       "      <td>47827</td>\n",
       "      <td>1859367</td>\n",
       "    </tr>\n",
       "    <tr>\n",
       "      <th>9271</th>\n",
       "      <td>2020-12-09</td>\n",
       "      <td>Karnataka</td>\n",
       "      <td>858370</td>\n",
       "      <td>11880</td>\n",
       "      <td>895284</td>\n",
       "    </tr>\n",
       "    <tr>\n",
       "      <th>9257</th>\n",
       "      <td>2020-12-09</td>\n",
       "      <td>Andhra Pradesh</td>\n",
       "      <td>860368</td>\n",
       "      <td>7042</td>\n",
       "      <td>872839</td>\n",
       "    </tr>\n",
       "    <tr>\n",
       "      <th>9285</th>\n",
       "      <td>2020-12-09</td>\n",
       "      <td>Tamil Nadu</td>\n",
       "      <td>770378</td>\n",
       "      <td>11822</td>\n",
       "      <td>792788</td>\n",
       "    </tr>\n",
       "    <tr>\n",
       "      <th>9272</th>\n",
       "      <td>2020-12-09</td>\n",
       "      <td>Kerala</td>\n",
       "      <td>582351</td>\n",
       "      <td>2472</td>\n",
       "      <td>644696</td>\n",
       "    </tr>\n",
       "  </tbody>\n",
       "</table>\n",
       "</div>"
      ],
      "text/plain": [
       "           date           state    cured  deaths  confirmed\n",
       "9275 2020-12-09     Maharashtra  1737080   47827    1859367\n",
       "9271 2020-12-09       Karnataka   858370   11880     895284\n",
       "9257 2020-12-09  Andhra Pradesh   860368    7042     872839\n",
       "9285 2020-12-09      Tamil Nadu   770378   11822     792788\n",
       "9272 2020-12-09          Kerala   582351    2472     644696"
      ]
     },
     "execution_count": 5,
     "metadata": {},
     "output_type": "execute_result"
    }
   ],
   "source": [
    "# Sorting data in terms of maximum confirmed cases and storing top 5 cases\n",
    "max_confirm= l.sort_values('confirmed', ascending=False)\n",
    "mc= max_confirm.head()\n",
    "mc"
   ]
  },
  {
   "cell_type": "markdown",
   "metadata": {},
   "source": [
    "Matplotlib plot"
   ]
  },
  {
   "cell_type": "code",
   "execution_count": 6,
   "metadata": {},
   "outputs": [
    {
     "data": {
      "image/png": "[encoded data removed]",
      "text/plain": [
       "<Figure size 720x360 with 1 Axes>"
      ]
     },
     "metadata": {
      "needs_background": "light"
     },
     "output_type": "display_data"
    }
   ],
   "source": [
    "plt.figure(figsize=(10, 5))\n",
    "plt.bar('state','confirmed', data=mc)\n",
    "plt.show()"
   ]
  },
  {
   "cell_type": "markdown",
   "metadata": {},
   "source": [
    "Seaborn plot"
   ]
  },
  {
   "cell_type": "code",
   "execution_count": 7,
   "metadata": {},
   "outputs": [
    {
     "data": {
      "image/png": "[encoded data removed]",
      "text/plain": [
       "<Figure size 720x360 with 1 Axes>"
      ]
     },
     "metadata": {
      "needs_background": "light"
     },
     "output_type": "display_data"
    }
   ],
   "source": [
    "plt.figure(figsize=(10, 5))\n",
    "#plt.bar('state','confirmed', data=top)\n",
    "sns.barplot(x='state',y='confirmed', data= mc, hue='state')\n",
    "plt.show()"
   ]
  },
  {
   "cell_type": "markdown",
   "metadata": {},
   "source": [
    "# Death case "
   ]
  },
  {
   "cell_type": "code",
   "execution_count": 8,
   "metadata": {},
   "outputs": [
    {
     "data": {
      "text/html": [
       "<div>\n",
       "<style scoped>\n",
       "    .dataframe tbody tr th:only-of-type {\n",
       "        vertical-align: middle;\n",
       "    }\n",
       "\n",
       "    .dataframe tbody tr th {\n",
       "        vertical-align: top;\n",
       "    }\n",
       "\n",
       "    .dataframe thead th {\n",
       "        text-align: right;\n",
       "    }\n",
       "</style>\n",
       "<table border=\"1\" class=\"dataframe\">\n",
       "  <thead>\n",
       "    <tr style=\"text-align: right;\">\n",
       "      <th></th>\n",
       "      <th>date</th>\n",
       "      <th>state</th>\n",
       "      <th>cured</th>\n",
       "      <th>deaths</th>\n",
       "      <th>confirmed</th>\n",
       "    </tr>\n",
       "  </thead>\n",
       "  <tbody>\n",
       "    <tr>\n",
       "      <th>9275</th>\n",
       "      <td>2020-12-09</td>\n",
       "      <td>Maharashtra</td>\n",
       "      <td>1737080</td>\n",
       "      <td>47827</td>\n",
       "      <td>1859367</td>\n",
       "    </tr>\n",
       "    <tr>\n",
       "      <th>9271</th>\n",
       "      <td>2020-12-09</td>\n",
       "      <td>Karnataka</td>\n",
       "      <td>858370</td>\n",
       "      <td>11880</td>\n",
       "      <td>895284</td>\n",
       "    </tr>\n",
       "    <tr>\n",
       "      <th>9285</th>\n",
       "      <td>2020-12-09</td>\n",
       "      <td>Tamil Nadu</td>\n",
       "      <td>770378</td>\n",
       "      <td>11822</td>\n",
       "      <td>792788</td>\n",
       "    </tr>\n",
       "    <tr>\n",
       "      <th>9264</th>\n",
       "      <td>2020-12-09</td>\n",
       "      <td>Delhi</td>\n",
       "      <td>565039</td>\n",
       "      <td>9763</td>\n",
       "      <td>597112</td>\n",
       "    </tr>\n",
       "    <tr>\n",
       "      <th>9290</th>\n",
       "      <td>2020-12-09</td>\n",
       "      <td>West Bengal</td>\n",
       "      <td>475425</td>\n",
       "      <td>8820</td>\n",
       "      <td>507995</td>\n",
       "    </tr>\n",
       "  </tbody>\n",
       "</table>\n",
       "</div>"
      ],
      "text/plain": [
       "           date        state    cured  deaths  confirmed\n",
       "9275 2020-12-09  Maharashtra  1737080   47827    1859367\n",
       "9271 2020-12-09    Karnataka   858370   11880     895284\n",
       "9285 2020-12-09   Tamil Nadu   770378   11822     792788\n",
       "9264 2020-12-09        Delhi   565039    9763     597112\n",
       "9290 2020-12-09  West Bengal   475425    8820     507995"
      ]
     },
     "execution_count": 8,
     "metadata": {},
     "output_type": "execute_result"
    }
   ],
   "source": [
    "max_death= l.sort_values('deaths', ascending=False)\n",
    "md= max_death.head()\n",
    "md"
   ]
  },
  {
   "cell_type": "markdown",
   "metadata": {},
   "source": [
    "Barplot in seaborn"
   ]
  },
  {
   "cell_type": "code",
   "execution_count": 9,
   "metadata": {},
   "outputs": [
    {
     "data": {
      "image/png": "[encoded data removed]",
      "text/plain": [
       "<Figure size 720x360 with 1 Axes>"
      ]
     },
     "metadata": {
      "needs_background": "light"
     },
     "output_type": "display_data"
    }
   ],
   "source": [
    "plt.figure(figsize=(10, 5))\n",
    "#plt.bar('state','deaths', data=top)\n",
    "sns.barplot(x='state',y='deaths', data= md, hue='state')\n",
    "plt.show()"
   ]
  },
  {
   "cell_type": "markdown",
   "metadata": {},
   "source": [
    "# Cured case"
   ]
  },
  {
   "cell_type": "code",
   "execution_count": 10,
   "metadata": {},
   "outputs": [
    {
     "data": {
      "text/html": [
       "<div>\n",
       "<style scoped>\n",
       "    .dataframe tbody tr th:only-of-type {\n",
       "        vertical-align: middle;\n",
       "    }\n",
       "\n",
       "    .dataframe tbody tr th {\n",
       "        vertical-align: top;\n",
       "    }\n",
       "\n",
       "    .dataframe thead th {\n",
       "        text-align: right;\n",
       "    }\n",
       "</style>\n",
       "<table border=\"1\" class=\"dataframe\">\n",
       "  <thead>\n",
       "    <tr style=\"text-align: right;\">\n",
       "      <th></th>\n",
       "      <th>date</th>\n",
       "      <th>state</th>\n",
       "      <th>cured</th>\n",
       "      <th>deaths</th>\n",
       "      <th>confirmed</th>\n",
       "    </tr>\n",
       "  </thead>\n",
       "  <tbody>\n",
       "    <tr>\n",
       "      <th>9275</th>\n",
       "      <td>2020-12-09</td>\n",
       "      <td>Maharashtra</td>\n",
       "      <td>1737080</td>\n",
       "      <td>47827</td>\n",
       "      <td>1859367</td>\n",
       "    </tr>\n",
       "    <tr>\n",
       "      <th>9257</th>\n",
       "      <td>2020-12-09</td>\n",
       "      <td>Andhra Pradesh</td>\n",
       "      <td>860368</td>\n",
       "      <td>7042</td>\n",
       "      <td>872839</td>\n",
       "    </tr>\n",
       "    <tr>\n",
       "      <th>9271</th>\n",
       "      <td>2020-12-09</td>\n",
       "      <td>Karnataka</td>\n",
       "      <td>858370</td>\n",
       "      <td>11880</td>\n",
       "      <td>895284</td>\n",
       "    </tr>\n",
       "    <tr>\n",
       "      <th>9285</th>\n",
       "      <td>2020-12-09</td>\n",
       "      <td>Tamil Nadu</td>\n",
       "      <td>770378</td>\n",
       "      <td>11822</td>\n",
       "      <td>792788</td>\n",
       "    </tr>\n",
       "    <tr>\n",
       "      <th>9272</th>\n",
       "      <td>2020-12-09</td>\n",
       "      <td>Kerala</td>\n",
       "      <td>582351</td>\n",
       "      <td>2472</td>\n",
       "      <td>644696</td>\n",
       "    </tr>\n",
       "  </tbody>\n",
       "</table>\n",
       "</div>"
      ],
      "text/plain": [
       "           date           state    cured  deaths  confirmed\n",
       "9275 2020-12-09     Maharashtra  1737080   47827    1859367\n",
       "9257 2020-12-09  Andhra Pradesh   860368    7042     872839\n",
       "9271 2020-12-09       Karnataka   858370   11880     895284\n",
       "9285 2020-12-09      Tamil Nadu   770378   11822     792788\n",
       "9272 2020-12-09          Kerala   582351    2472     644696"
      ]
     },
     "execution_count": 10,
     "metadata": {},
     "output_type": "execute_result"
    }
   ],
   "source": [
    "max_cured= l.sort_values('cured', ascending=False)\n",
    "mcu= max_cured.head()\n",
    "mcu"
   ]
  },
  {
   "cell_type": "code",
   "execution_count": 11,
   "metadata": {},
   "outputs": [
    {
     "data": {
      "image/png": "[encoded data removed]",
      "text/plain": [
       "<Figure size 720x360 with 1 Axes>"
      ]
     },
     "metadata": {
      "needs_background": "light"
     },
     "output_type": "display_data"
    }
   ],
   "source": [
    "plt.figure(figsize=(10, 5))\n",
    "#plt.bar('state','cured', data=top)\n",
    "sns.barplot(x='state',y='cured', data= mcu, hue='state')\n",
    "plt.show()"
   ]
  },
  {
   "cell_type": "markdown",
   "metadata": {},
   "source": [
    "# Analyzing State "
   ]
  },
  {
   "cell_type": "markdown",
   "metadata": {},
   "source": [
    "Maharashtara"
   ]
  },
  {
   "cell_type": "code",
   "execution_count": 12,
   "metadata": {},
   "outputs": [
    {
     "data": {
      "text/html": [
       "<div>\n",
       "<style scoped>\n",
       "    .dataframe tbody tr th:only-of-type {\n",
       "        vertical-align: middle;\n",
       "    }\n",
       "\n",
       "    .dataframe tbody tr th {\n",
       "        vertical-align: top;\n",
       "    }\n",
       "\n",
       "    .dataframe thead th {\n",
       "        text-align: right;\n",
       "    }\n",
       "</style>\n",
       "<table border=\"1\" class=\"dataframe\">\n",
       "  <thead>\n",
       "    <tr style=\"text-align: right;\">\n",
       "      <th></th>\n",
       "      <th>date</th>\n",
       "      <th>state</th>\n",
       "      <th>cured</th>\n",
       "      <th>deaths</th>\n",
       "      <th>confirmed</th>\n",
       "    </tr>\n",
       "  </thead>\n",
       "  <tbody>\n",
       "    <tr>\n",
       "      <th>76</th>\n",
       "      <td>2020-03-09</td>\n",
       "      <td>Maharashtra</td>\n",
       "      <td>0</td>\n",
       "      <td>0</td>\n",
       "      <td>2</td>\n",
       "    </tr>\n",
       "    <tr>\n",
       "      <th>91</th>\n",
       "      <td>2020-03-10</td>\n",
       "      <td>Maharashtra</td>\n",
       "      <td>0</td>\n",
       "      <td>0</td>\n",
       "      <td>5</td>\n",
       "    </tr>\n",
       "    <tr>\n",
       "      <th>97</th>\n",
       "      <td>2020-03-11</td>\n",
       "      <td>Maharashtra</td>\n",
       "      <td>0</td>\n",
       "      <td>0</td>\n",
       "      <td>2</td>\n",
       "    </tr>\n",
       "    <tr>\n",
       "      <th>120</th>\n",
       "      <td>2020-03-12</td>\n",
       "      <td>Maharashtra</td>\n",
       "      <td>0</td>\n",
       "      <td>0</td>\n",
       "      <td>11</td>\n",
       "    </tr>\n",
       "    <tr>\n",
       "      <th>133</th>\n",
       "      <td>2020-03-13</td>\n",
       "      <td>Maharashtra</td>\n",
       "      <td>0</td>\n",
       "      <td>0</td>\n",
       "      <td>14</td>\n",
       "    </tr>\n",
       "    <tr>\n",
       "      <th>...</th>\n",
       "      <td>...</td>\n",
       "      <td>...</td>\n",
       "      <td>...</td>\n",
       "      <td>...</td>\n",
       "      <td>...</td>\n",
       "    </tr>\n",
       "    <tr>\n",
       "      <th>9135</th>\n",
       "      <td>2020-12-05</td>\n",
       "      <td>Maharashtra</td>\n",
       "      <td>1710050</td>\n",
       "      <td>47599</td>\n",
       "      <td>1842587</td>\n",
       "    </tr>\n",
       "    <tr>\n",
       "      <th>9170</th>\n",
       "      <td>2020-12-06</td>\n",
       "      <td>Maharashtra</td>\n",
       "      <td>1715884</td>\n",
       "      <td>47694</td>\n",
       "      <td>1847509</td>\n",
       "    </tr>\n",
       "    <tr>\n",
       "      <th>9205</th>\n",
       "      <td>2020-12-07</td>\n",
       "      <td>Maharashtra</td>\n",
       "      <td>1723370</td>\n",
       "      <td>47734</td>\n",
       "      <td>1852266</td>\n",
       "    </tr>\n",
       "    <tr>\n",
       "      <th>9240</th>\n",
       "      <td>2020-12-08</td>\n",
       "      <td>Maharashtra</td>\n",
       "      <td>1730715</td>\n",
       "      <td>47774</td>\n",
       "      <td>1855341</td>\n",
       "    </tr>\n",
       "    <tr>\n",
       "      <th>9275</th>\n",
       "      <td>2020-12-09</td>\n",
       "      <td>Maharashtra</td>\n",
       "      <td>1737080</td>\n",
       "      <td>47827</td>\n",
       "      <td>1859367</td>\n",
       "    </tr>\n",
       "  </tbody>\n",
       "</table>\n",
       "<p>275 rows × 5 columns</p>\n",
       "</div>"
      ],
      "text/plain": [
       "           date        state    cured  deaths  confirmed\n",
       "76   2020-03-09  Maharashtra        0       0          2\n",
       "91   2020-03-10  Maharashtra        0       0          5\n",
       "97   2020-03-11  Maharashtra        0       0          2\n",
       "120  2020-03-12  Maharashtra        0       0         11\n",
       "133  2020-03-13  Maharashtra        0       0         14\n",
       "...         ...          ...      ...     ...        ...\n",
       "9135 2020-12-05  Maharashtra  1710050   47599    1842587\n",
       "9170 2020-12-06  Maharashtra  1715884   47694    1847509\n",
       "9205 2020-12-07  Maharashtra  1723370   47734    1852266\n",
       "9240 2020-12-08  Maharashtra  1730715   47774    1855341\n",
       "9275 2020-12-09  Maharashtra  1737080   47827    1859367\n",
       "\n",
       "[275 rows x 5 columns]"
      ]
     },
     "execution_count": 12,
     "metadata": {},
     "output_type": "execute_result"
    }
   ],
   "source": [
    "m =c[c.state =='Maharashtra']\n",
    "m"
   ]
  },
  {
   "cell_type": "code",
   "execution_count": 13,
   "metadata": {},
   "outputs": [
    {
     "data": {
      "image/png": "[encoded data removed]",
      "text/plain": [
       "<Figure size 720x360 with 1 Axes>"
      ]
     },
     "metadata": {
      "needs_background": "light"
     },
     "output_type": "display_data"
    }
   ],
   "source": [
    "#Confirmed Cases\n",
    "plt.figure(figsize=(10, 5))\n",
    "#plt.bar('state','cured', data=top)\n",
    "sns.lineplot(x='date',y='confirmed', data= m)\n",
    "plt.show()"
   ]
  },
  {
   "cell_type": "code",
   "execution_count": 14,
   "metadata": {},
   "outputs": [
    {
     "data": {
      "image/png": "[encoded data removed]",
      "text/plain": [
       "<Figure size 720x360 with 1 Axes>"
      ]
     },
     "metadata": {
      "needs_background": "light"
     },
     "output_type": "display_data"
    }
   ],
   "source": [
    "# Death case\n",
    "plt.figure(figsize=(10, 5))\n",
    "#plt.bar('state','cured', data=top)\n",
    "sns.lineplot(x='date',y='deaths', data= m, color='red')\n",
    "plt.show()"
   ]
  },
  {
   "cell_type": "code",
   "execution_count": 15,
   "metadata": {},
   "outputs": [
    {
     "data": {
      "image/png": "[encoded data removed]",
      "text/plain": [
       "<Figure size 720x360 with 1 Axes>"
      ]
     },
     "metadata": {
      "needs_background": "light"
     },
     "output_type": "display_data"
    }
   ],
   "source": [
    "#Cured\n",
    "plt.figure(figsize=(10, 5))\n",
    "#plt.bar('state','cured', data=top)\n",
    "sns.lineplot(x='date',y='deaths', data= m, color='black')\n",
    "plt.show()\n"
   ]
  },
  {
   "cell_type": "markdown",
   "metadata": {},
   "source": [
    "Kerala\n"
   ]
  },
  {
   "cell_type": "code",
   "execution_count": 16,
   "metadata": {},
   "outputs": [
    {
     "name": "stdout",
     "output_type": "stream",
     "text": [
      "           date   state   cured  deaths  confirmed\n",
      "0    2020-01-30  Kerala       0       0          1\n",
      "1    2020-01-31  Kerala       0       0          1\n",
      "2    2020-02-01  Kerala       0       0          2\n",
      "3    2020-02-02  Kerala       0       0          3\n",
      "4    2020-02-03  Kerala       0       0          3\n",
      "...         ...     ...     ...     ...        ...\n",
      "9132 2020-12-05  Kerala  561874    2358     625767\n",
      "9167 2020-12-06  Kerala  567694    2390     631615\n",
      "9202 2020-12-07  Kerala  572911    2418     636392\n",
      "9237 2020-12-08  Kerala  577616    2441     639664\n",
      "9272 2020-12-09  Kerala  582351    2472     644696\n",
      "\n",
      "[315 rows x 5 columns]\n"
     ]
    }
   ],
   "source": [
    "k =c[c.state =='Kerala']\n",
    "print (k)\n"
   ]
  },
  {
   "cell_type": "code",
   "execution_count": 17,
   "metadata": {},
   "outputs": [
    {
     "data": {
      "image/png": "[encoded data removed]",
      "text/plain": [
       "<Figure size 1080x720 with 1 Axes>"
      ]
     },
     "metadata": {
      "needs_background": "light"
     },
     "output_type": "display_data"
    }
   ],
   "source": [
    "\n",
    "plt.figure(figsize=(15, 10))\n",
    "sns.lineplot(x='date',y='confirmed', data= k)\n",
    "plt.show()\n"
   ]
  },
  {
   "cell_type": "code",
   "execution_count": 18,
   "metadata": {},
   "outputs": [
    {
     "data": {
      "image/png": "[encoded data removed]",
      "text/plain": [
       "<Figure size 1080x720 with 1 Axes>"
      ]
     },
     "metadata": {
      "needs_background": "light"
     },
     "output_type": "display_data"
    }
   ],
   "source": [
    "plt.figure(figsize=(15, 10))\n",
    "sns.lineplot(x='date',y='deaths', data= k)\n",
    "plt.show()"
   ]
  },
  {
   "cell_type": "code",
   "execution_count": 19,
   "metadata": {},
   "outputs": [
    {
     "data": {
      "image/png": "[encoded data removed]",
      "text/plain": [
       "<Figure size 1080x720 with 1 Axes>"
      ]
     },
     "metadata": {
      "needs_background": "light"
     },
     "output_type": "display_data"
    }
   ],
   "source": [
    "plt.figure(figsize=(15, 10))\n",
    "sns.lineplot(x='date',y='cured', data= k)\n",
    "plt.show()"
   ]
  },
  {
   "cell_type": "markdown",
   "metadata": {},
   "source": [
    "Jammu & Kashmir"
   ]
  },
  {
   "cell_type": "code",
   "execution_count": 20,
   "metadata": {},
   "outputs": [
    {
     "data": {
      "text/html": [
       "<div>\n",
       "<style scoped>\n",
       "    .dataframe tbody tr th:only-of-type {\n",
       "        vertical-align: middle;\n",
       "    }\n",
       "\n",
       "    .dataframe tbody tr th {\n",
       "        vertical-align: top;\n",
       "    }\n",
       "\n",
       "    .dataframe thead th {\n",
       "        text-align: right;\n",
       "    }\n",
       "</style>\n",
       "<table border=\"1\" class=\"dataframe\">\n",
       "  <thead>\n",
       "    <tr style=\"text-align: right;\">\n",
       "      <th></th>\n",
       "      <th>date</th>\n",
       "      <th>state</th>\n",
       "      <th>cured</th>\n",
       "      <th>deaths</th>\n",
       "      <th>confirmed</th>\n",
       "    </tr>\n",
       "  </thead>\n",
       "  <tbody>\n",
       "    <tr>\n",
       "      <th>81</th>\n",
       "      <td>2020-03-09</td>\n",
       "      <td>Jammu and Kashmir</td>\n",
       "      <td>0</td>\n",
       "      <td>0</td>\n",
       "      <td>1</td>\n",
       "    </tr>\n",
       "    <tr>\n",
       "      <th>96</th>\n",
       "      <td>2020-03-10</td>\n",
       "      <td>Jammu and Kashmir</td>\n",
       "      <td>0</td>\n",
       "      <td>0</td>\n",
       "      <td>1</td>\n",
       "    </tr>\n",
       "    <tr>\n",
       "      <th>106</th>\n",
       "      <td>2020-03-11</td>\n",
       "      <td>Jammu and Kashmir</td>\n",
       "      <td>0</td>\n",
       "      <td>0</td>\n",
       "      <td>1</td>\n",
       "    </tr>\n",
       "    <tr>\n",
       "      <th>117</th>\n",
       "      <td>2020-03-12</td>\n",
       "      <td>Jammu and Kashmir</td>\n",
       "      <td>0</td>\n",
       "      <td>0</td>\n",
       "      <td>1</td>\n",
       "    </tr>\n",
       "    <tr>\n",
       "      <th>130</th>\n",
       "      <td>2020-03-13</td>\n",
       "      <td>Jammu and Kashmir</td>\n",
       "      <td>0</td>\n",
       "      <td>0</td>\n",
       "      <td>1</td>\n",
       "    </tr>\n",
       "    <tr>\n",
       "      <th>...</th>\n",
       "      <td>...</td>\n",
       "      <td>...</td>\n",
       "      <td>...</td>\n",
       "      <td>...</td>\n",
       "      <td>...</td>\n",
       "    </tr>\n",
       "    <tr>\n",
       "      <th>9129</th>\n",
       "      <td>2020-12-05</td>\n",
       "      <td>Jammu and Kashmir</td>\n",
       "      <td>105537</td>\n",
       "      <td>1730</td>\n",
       "      <td>112256</td>\n",
       "    </tr>\n",
       "    <tr>\n",
       "      <th>9164</th>\n",
       "      <td>2020-12-06</td>\n",
       "      <td>Jammu and Kashmir</td>\n",
       "      <td>106006</td>\n",
       "      <td>1742</td>\n",
       "      <td>112757</td>\n",
       "    </tr>\n",
       "    <tr>\n",
       "      <th>9199</th>\n",
       "      <td>2020-12-07</td>\n",
       "      <td>Jammu and Kashmir</td>\n",
       "      <td>106372</td>\n",
       "      <td>1746</td>\n",
       "      <td>113288</td>\n",
       "    </tr>\n",
       "    <tr>\n",
       "      <th>9234</th>\n",
       "      <td>2020-12-08</td>\n",
       "      <td>Jammu and Kashmir</td>\n",
       "      <td>106758</td>\n",
       "      <td>1755</td>\n",
       "      <td>113568</td>\n",
       "    </tr>\n",
       "    <tr>\n",
       "      <th>9269</th>\n",
       "      <td>2020-12-09</td>\n",
       "      <td>Jammu and Kashmir</td>\n",
       "      <td>107282</td>\n",
       "      <td>1761</td>\n",
       "      <td>114038</td>\n",
       "    </tr>\n",
       "  </tbody>\n",
       "</table>\n",
       "<p>276 rows × 5 columns</p>\n",
       "</div>"
      ],
      "text/plain": [
       "           date              state   cured  deaths  confirmed\n",
       "81   2020-03-09  Jammu and Kashmir       0       0          1\n",
       "96   2020-03-10  Jammu and Kashmir       0       0          1\n",
       "106  2020-03-11  Jammu and Kashmir       0       0          1\n",
       "117  2020-03-12  Jammu and Kashmir       0       0          1\n",
       "130  2020-03-13  Jammu and Kashmir       0       0          1\n",
       "...         ...                ...     ...     ...        ...\n",
       "9129 2020-12-05  Jammu and Kashmir  105537    1730     112256\n",
       "9164 2020-12-06  Jammu and Kashmir  106006    1742     112757\n",
       "9199 2020-12-07  Jammu and Kashmir  106372    1746     113288\n",
       "9234 2020-12-08  Jammu and Kashmir  106758    1755     113568\n",
       "9269 2020-12-09  Jammu and Kashmir  107282    1761     114038\n",
       "\n",
       "[276 rows x 5 columns]"
      ]
     },
     "execution_count": 20,
     "metadata": {},
     "output_type": "execute_result"
    }
   ],
   "source": [
    "jk =c[c.state =='Jammu and Kashmir']\n",
    "jk\n"
   ]
  },
  {
   "cell_type": "code",
   "execution_count": 21,
   "metadata": {},
   "outputs": [
    {
     "data": {
      "image/png": "[encoded data removed]",
      "text/plain": [
       "<Figure size 1080x360 with 1 Axes>"
      ]
     },
     "metadata": {
      "needs_background": "light"
     },
     "output_type": "display_data"
    },
    {
     "data": {
      "image/png": "[encoded data removed]",
      "text/plain": [
       "<Figure size 1080x360 with 1 Axes>"
      ]
     },
     "metadata": {
      "needs_background": "light"
     },
     "output_type": "display_data"
    },
    {
     "data": {
      "image/png": "[encoded data removed]",
      "text/plain": [
       "<Figure size 1080x360 with 1 Axes>"
      ]
     },
     "metadata": {
      "needs_background": "light"
     },
     "output_type": "display_data"
    }
   ],
   "source": [
    "# No need for subplot:\n",
    "\n",
    "plt.figure(figsize=(15, 5))\n",
    "sns.lineplot(x='date',y='confirmed', data=jk )\n",
    "plt.show()\n",
    "\n",
    "plt.figure(figsize=(15, 5))\n",
    "sns.lineplot(x='date',y='deaths', data= jk)\n",
    "plt.show()\n",
    "\n",
    "plt.figure(figsize=(15, 5))\n",
    "sns.lineplot(x='date',y='cured', data= jk)\n",
    "plt.show()"
   ]
  },
  {
   "cell_type": "markdown",
   "metadata": {},
   "source": [
    "# Linear Regression"
   ]
  },
  {
   "cell_type": "code",
   "execution_count": 22,
   "metadata": {},
   "outputs": [],
   "source": [
    "from sklearn.model_selection import train_test_split as tts\n",
    "from sklearn.metrics import mean_squared_error as ms"
   ]
  },
  {
   "cell_type": "code",
   "execution_count": 23,
   "metadata": {},
   "outputs": [
    {
     "data": {
      "text/html": [
       "<div>\n",
       "<style scoped>\n",
       "    .dataframe tbody tr th:only-of-type {\n",
       "        vertical-align: middle;\n",
       "    }\n",
       "\n",
       "    .dataframe tbody tr th {\n",
       "        vertical-align: top;\n",
       "    }\n",
       "\n",
       "    .dataframe thead th {\n",
       "        text-align: right;\n",
       "    }\n",
       "</style>\n",
       "<table border=\"1\" class=\"dataframe\">\n",
       "  <thead>\n",
       "    <tr style=\"text-align: right;\">\n",
       "      <th></th>\n",
       "      <th>date</th>\n",
       "      <th>state</th>\n",
       "      <th>cured</th>\n",
       "      <th>deaths</th>\n",
       "      <th>confirmed</th>\n",
       "    </tr>\n",
       "  </thead>\n",
       "  <tbody>\n",
       "    <tr>\n",
       "      <th>76</th>\n",
       "      <td>2020-03-09</td>\n",
       "      <td>Maharashtra</td>\n",
       "      <td>0</td>\n",
       "      <td>0</td>\n",
       "      <td>2</td>\n",
       "    </tr>\n",
       "    <tr>\n",
       "      <th>91</th>\n",
       "      <td>2020-03-10</td>\n",
       "      <td>Maharashtra</td>\n",
       "      <td>0</td>\n",
       "      <td>0</td>\n",
       "      <td>5</td>\n",
       "    </tr>\n",
       "    <tr>\n",
       "      <th>97</th>\n",
       "      <td>2020-03-11</td>\n",
       "      <td>Maharashtra</td>\n",
       "      <td>0</td>\n",
       "      <td>0</td>\n",
       "      <td>2</td>\n",
       "    </tr>\n",
       "    <tr>\n",
       "      <th>120</th>\n",
       "      <td>2020-03-12</td>\n",
       "      <td>Maharashtra</td>\n",
       "      <td>0</td>\n",
       "      <td>0</td>\n",
       "      <td>11</td>\n",
       "    </tr>\n",
       "    <tr>\n",
       "      <th>133</th>\n",
       "      <td>2020-03-13</td>\n",
       "      <td>Maharashtra</td>\n",
       "      <td>0</td>\n",
       "      <td>0</td>\n",
       "      <td>14</td>\n",
       "    </tr>\n",
       "    <tr>\n",
       "      <th>...</th>\n",
       "      <td>...</td>\n",
       "      <td>...</td>\n",
       "      <td>...</td>\n",
       "      <td>...</td>\n",
       "      <td>...</td>\n",
       "    </tr>\n",
       "    <tr>\n",
       "      <th>9135</th>\n",
       "      <td>2020-12-05</td>\n",
       "      <td>Maharashtra</td>\n",
       "      <td>1710050</td>\n",
       "      <td>47599</td>\n",
       "      <td>1842587</td>\n",
       "    </tr>\n",
       "    <tr>\n",
       "      <th>9170</th>\n",
       "      <td>2020-12-06</td>\n",
       "      <td>Maharashtra</td>\n",
       "      <td>1715884</td>\n",
       "      <td>47694</td>\n",
       "      <td>1847509</td>\n",
       "    </tr>\n",
       "    <tr>\n",
       "      <th>9205</th>\n",
       "      <td>2020-12-07</td>\n",
       "      <td>Maharashtra</td>\n",
       "      <td>1723370</td>\n",
       "      <td>47734</td>\n",
       "      <td>1852266</td>\n",
       "    </tr>\n",
       "    <tr>\n",
       "      <th>9240</th>\n",
       "      <td>2020-12-08</td>\n",
       "      <td>Maharashtra</td>\n",
       "      <td>1730715</td>\n",
       "      <td>47774</td>\n",
       "      <td>1855341</td>\n",
       "    </tr>\n",
       "    <tr>\n",
       "      <th>9275</th>\n",
       "      <td>2020-12-09</td>\n",
       "      <td>Maharashtra</td>\n",
       "      <td>1737080</td>\n",
       "      <td>47827</td>\n",
       "      <td>1859367</td>\n",
       "    </tr>\n",
       "  </tbody>\n",
       "</table>\n",
       "<p>275 rows × 5 columns</p>\n",
       "</div>"
      ],
      "text/plain": [
       "           date        state    cured  deaths  confirmed\n",
       "76   2020-03-09  Maharashtra        0       0          2\n",
       "91   2020-03-10  Maharashtra        0       0          5\n",
       "97   2020-03-11  Maharashtra        0       0          2\n",
       "120  2020-03-12  Maharashtra        0       0         11\n",
       "133  2020-03-13  Maharashtra        0       0         14\n",
       "...         ...          ...      ...     ...        ...\n",
       "9135 2020-12-05  Maharashtra  1710050   47599    1842587\n",
       "9170 2020-12-06  Maharashtra  1715884   47694    1847509\n",
       "9205 2020-12-07  Maharashtra  1723370   47734    1852266\n",
       "9240 2020-12-08  Maharashtra  1730715   47774    1855341\n",
       "9275 2020-12-09  Maharashtra  1737080   47827    1859367\n",
       "\n",
       "[275 rows x 5 columns]"
      ]
     },
     "execution_count": 23,
     "metadata": {},
     "output_type": "execute_result"
    }
   ],
   "source": [
    "# Maharashtara State:\n",
    "m"
   ]
  },
  {
   "cell_type": "code",
   "execution_count": 24,
   "metadata": {},
   "outputs": [
    {
     "name": "stderr",
     "output_type": "stream",
     "text": [
      "<ipython-input-24-7de2c6dca8f9>:2: SettingWithCopyWarning: \n",
      "A value is trying to be set on a copy of a slice from a DataFrame.\n",
      "Try using .loc[row_indexer,col_indexer] = value instead\n",
      "\n",
      "See the caveats in the documentation: https://pandas.pydata.org/pandas-docs/stable/user_guide/indexing.html#returning-a-view-versus-a-copy\n",
      "  m['date']=m['date'].map(dt.datetime.toordinal)\n"
     ]
    },
    {
     "data": {
      "text/html": [
       "<div>\n",
       "<style scoped>\n",
       "    .dataframe tbody tr th:only-of-type {\n",
       "        vertical-align: middle;\n",
       "    }\n",
       "\n",
       "    .dataframe tbody tr th {\n",
       "        vertical-align: top;\n",
       "    }\n",
       "\n",
       "    .dataframe thead th {\n",
       "        text-align: right;\n",
       "    }\n",
       "</style>\n",
       "<table border=\"1\" class=\"dataframe\">\n",
       "  <thead>\n",
       "    <tr style=\"text-align: right;\">\n",
       "      <th></th>\n",
       "      <th>date</th>\n",
       "      <th>state</th>\n",
       "      <th>cured</th>\n",
       "      <th>deaths</th>\n",
       "      <th>confirmed</th>\n",
       "    </tr>\n",
       "  </thead>\n",
       "  <tbody>\n",
       "    <tr>\n",
       "      <th>76</th>\n",
       "      <td>737493</td>\n",
       "      <td>Maharashtra</td>\n",
       "      <td>0</td>\n",
       "      <td>0</td>\n",
       "      <td>2</td>\n",
       "    </tr>\n",
       "    <tr>\n",
       "      <th>91</th>\n",
       "      <td>737494</td>\n",
       "      <td>Maharashtra</td>\n",
       "      <td>0</td>\n",
       "      <td>0</td>\n",
       "      <td>5</td>\n",
       "    </tr>\n",
       "    <tr>\n",
       "      <th>97</th>\n",
       "      <td>737495</td>\n",
       "      <td>Maharashtra</td>\n",
       "      <td>0</td>\n",
       "      <td>0</td>\n",
       "      <td>2</td>\n",
       "    </tr>\n",
       "    <tr>\n",
       "      <th>120</th>\n",
       "      <td>737496</td>\n",
       "      <td>Maharashtra</td>\n",
       "      <td>0</td>\n",
       "      <td>0</td>\n",
       "      <td>11</td>\n",
       "    </tr>\n",
       "    <tr>\n",
       "      <th>133</th>\n",
       "      <td>737497</td>\n",
       "      <td>Maharashtra</td>\n",
       "      <td>0</td>\n",
       "      <td>0</td>\n",
       "      <td>14</td>\n",
       "    </tr>\n",
       "  </tbody>\n",
       "</table>\n",
       "</div>"
      ],
      "text/plain": [
       "       date        state  cured  deaths  confirmed\n",
       "76   737493  Maharashtra      0       0          2\n",
       "91   737494  Maharashtra      0       0          5\n",
       "97   737495  Maharashtra      0       0          2\n",
       "120  737496  Maharashtra      0       0         11\n",
       "133  737497  Maharashtra      0       0         14"
      ]
     },
     "execution_count": 24,
     "metadata": {},
     "output_type": "execute_result"
    }
   ],
   "source": [
    "# Converting date time to ordinal i.e as entry\n",
    "m['date']=m['date'].map(dt.datetime.toordinal)\n",
    "\n",
    "m.head()"
   ]
  },
  {
   "cell_type": "code",
   "execution_count": 25,
   "metadata": {},
   "outputs": [],
   "source": [
    "x=m['date']\n",
    "y=m['confirmed']\n"
   ]
  },
  {
   "cell_type": "code",
   "execution_count": 26,
   "metadata": {},
   "outputs": [],
   "source": [
    "xtrain,xtest,ytrain,ytest= tts(x,y,test_size=0.3)"
   ]
  },
  {
   "cell_type": "code",
   "execution_count": 27,
   "metadata": {},
   "outputs": [
    {
     "data": {
      "text/plain": [
       "LinearRegression()"
      ]
     },
     "execution_count": 27,
     "metadata": {},
     "output_type": "execute_result"
    }
   ],
   "source": [
    "from sklearn.linear_model import LinearRegression\n",
    "\n",
    "lr= LinearRegression()\n",
    "lr"
   ]
  },
  {
   "cell_type": "code",
   "execution_count": 28,
   "metadata": {},
   "outputs": [
    {
     "data": {
      "text/plain": [
       "2361      54758\n",
       "4550     375799\n",
       "8330    1731833\n",
       "3694     186626\n",
       "7000    1443409\n",
       "         ...   \n",
       "3190     120504\n",
       "9240    1855341\n",
       "7035    1453653\n",
       "1822      22171\n",
       "8680    1774455\n",
       "Name: confirmed, Length: 192, dtype: int64"
      ]
     },
     "execution_count": 28,
     "metadata": {},
     "output_type": "execute_result"
    }
   ],
   "source": [
    "\n",
    "ytrain"
   ]
  },
  {
   "cell_type": "code",
   "execution_count": 29,
   "metadata": {},
   "outputs": [
    {
     "data": {
      "text/plain": [
       "LinearRegression()"
      ]
     },
     "execution_count": 29,
     "metadata": {},
     "output_type": "execute_result"
    }
   ],
   "source": [
    "# Now to fit our model\n",
    "# Now we can do reshaping part here before individual reshaping\n",
    "# We do reshaping beacuse xtrain,xtest,ytrain and ytest are dataframes not arrays\n",
    "lr.fit(np.array(xtrain).reshape(-1,1) ,np.array(ytrain).reshape(-1,1))"
   ]
  },
  {
   "cell_type": "code",
   "execution_count": 30,
   "metadata": {},
   "outputs": [
    {
     "data": {
      "text/html": [
       "<div>\n",
       "<style scoped>\n",
       "    .dataframe tbody tr th:only-of-type {\n",
       "        vertical-align: middle;\n",
       "    }\n",
       "\n",
       "    .dataframe tbody tr th {\n",
       "        vertical-align: top;\n",
       "    }\n",
       "\n",
       "    .dataframe thead th {\n",
       "        text-align: right;\n",
       "    }\n",
       "</style>\n",
       "<table border=\"1\" class=\"dataframe\">\n",
       "  <thead>\n",
       "    <tr style=\"text-align: right;\">\n",
       "      <th></th>\n",
       "      <th>date</th>\n",
       "      <th>state</th>\n",
       "      <th>cured</th>\n",
       "      <th>deaths</th>\n",
       "      <th>confirmed</th>\n",
       "    </tr>\n",
       "  </thead>\n",
       "  <tbody>\n",
       "    <tr>\n",
       "      <th>9135</th>\n",
       "      <td>737764</td>\n",
       "      <td>Maharashtra</td>\n",
       "      <td>1710050</td>\n",
       "      <td>47599</td>\n",
       "      <td>1842587</td>\n",
       "    </tr>\n",
       "    <tr>\n",
       "      <th>9170</th>\n",
       "      <td>737765</td>\n",
       "      <td>Maharashtra</td>\n",
       "      <td>1715884</td>\n",
       "      <td>47694</td>\n",
       "      <td>1847509</td>\n",
       "    </tr>\n",
       "    <tr>\n",
       "      <th>9205</th>\n",
       "      <td>737766</td>\n",
       "      <td>Maharashtra</td>\n",
       "      <td>1723370</td>\n",
       "      <td>47734</td>\n",
       "      <td>1852266</td>\n",
       "    </tr>\n",
       "    <tr>\n",
       "      <th>9240</th>\n",
       "      <td>737767</td>\n",
       "      <td>Maharashtra</td>\n",
       "      <td>1730715</td>\n",
       "      <td>47774</td>\n",
       "      <td>1855341</td>\n",
       "    </tr>\n",
       "    <tr>\n",
       "      <th>9275</th>\n",
       "      <td>737768</td>\n",
       "      <td>Maharashtra</td>\n",
       "      <td>1737080</td>\n",
       "      <td>47827</td>\n",
       "      <td>1859367</td>\n",
       "    </tr>\n",
       "  </tbody>\n",
       "</table>\n",
       "</div>"
      ],
      "text/plain": [
       "        date        state    cured  deaths  confirmed\n",
       "9135  737764  Maharashtra  1710050   47599    1842587\n",
       "9170  737765  Maharashtra  1715884   47694    1847509\n",
       "9205  737766  Maharashtra  1723370   47734    1852266\n",
       "9240  737767  Maharashtra  1730715   47774    1855341\n",
       "9275  737768  Maharashtra  1737080   47827    1859367"
      ]
     },
     "execution_count": 30,
     "metadata": {},
     "output_type": "execute_result"
    }
   ],
   "source": [
    "m.tail()"
   ]
  },
  {
   "cell_type": "code",
   "execution_count": 31,
   "metadata": {},
   "outputs": [
    {
     "data": {
      "text/plain": [
       "array([[613068.76977253]])"
      ]
     },
     "execution_count": 31,
     "metadata": {},
     "output_type": "execute_result"
    }
   ],
   "source": [
    "# Predict date:\n",
    "\n",
    "lr.predict(np.array([[737625]]))"
   ]
  },
  {
   "cell_type": "markdown",
   "metadata": {},
   "source": [
    "# Revising The ML Supervised Learning part:"
   ]
  },
  {
   "cell_type": "code",
   "execution_count": 32,
   "metadata": {},
   "outputs": [
    {
     "data": {
      "text/plain": [
       "LinearRegression()"
      ]
     },
     "execution_count": 32,
     "metadata": {},
     "output_type": "execute_result"
    }
   ],
   "source": [
    "# Doing old methord:\n",
    "\n",
    "xtrain=xtrain.values.reshape(-1,1)\n",
    "# print(xtrain)\n",
    "\n",
    "lr.fit(xtrain,ytrain)"
   ]
  },
  {
   "cell_type": "code",
   "execution_count": 33,
   "metadata": {},
   "outputs": [
    {
     "data": {
      "text/plain": [
       "array([  60354.95283699,  860552.56839943,  -63386.94647694,\n",
       "       1033791.22743893, -203627.76569939, 1512259.90478516,\n",
       "        745060.12903976,  811055.80867386,   -5640.7267971 ,\n",
       "       -434612.64441776, -277872.90528679,  918298.78807926,\n",
       "       1396767.46542645, 1636001.80409908, 1083287.9871645 ,\n",
       "       1347270.70570087,  934797.70798779, 1289524.48602104,\n",
       "        200595.77205944,  868802.02835369, 1701997.48373318,\n",
       "        835804.18853664,   27357.11301994, 1207029.88647842,\n",
       "        250092.53178501, 1108036.36702728,  910049.328125  ,\n",
       "        514075.25032139, -170629.92588234,  637817.14963436,\n",
       "        307838.75146484,  439830.11073303, 1438014.76519775,\n",
       "       -269623.44533253, 1149283.66679859, 1792741.54323006,\n",
       "        522324.71027565,  852303.10844517, -360367.50482941,\n",
       "       1174032.04666138, 1644251.26405334,  134600.09242535,\n",
       "        283090.37160206, 1388518.00547218,  893550.40821648,\n",
       "       1603003.96428204,  299589.29151058,  596569.84986401,\n",
       "       -211877.22565365,  423331.19082451,  670814.98945141,\n",
       "        -13890.18675137,  -88135.32633972,  984294.46771336,\n",
       "        959546.08785057, 1767993.16336727, 1586505.04437351,\n",
       "       -376866.42473793, -261373.98537827,  101602.2526083 ,\n",
       "        844053.64849091,  654316.06954288,   19107.65306568,\n",
       "       1339021.24574661, 1075038.52721024, -236625.60551643,\n",
       "       -310870.74510384, 1314272.86588383, -385115.88469219,\n",
       "        241843.07183075, 1099786.90707302,  208845.2320137 ,\n",
       "          2608.73315716, -401614.80460072, -195378.30574512,\n",
       "       1042040.68739319,  580070.92995548,  687313.90935993,\n",
       "       -319120.2050581 ,  967795.54780483,  -96384.78629398,\n",
       "        357335.51119041,   52105.49288273])"
      ]
     },
     "execution_count": 33,
     "metadata": {},
     "output_type": "execute_result"
    }
   ],
   "source": [
    "xtest=xtest.values.reshape(-1,1)\n",
    "\n",
    "# Output prediction for linear regression algorithm\n",
    "yp= lr.predict(xtest)\n",
    "yp"
   ]
  },
  {
   "cell_type": "code",
   "execution_count": 34,
   "metadata": {},
   "outputs": [
    {
     "data": {
      "text/plain": [
       "1888     24427\n",
       "5320    604358\n",
       "1400      8590\n",
       "6055    923641\n",
       "850       1574\n",
       "Name: confirmed, dtype: int64"
      ]
     },
     "execution_count": 34,
     "metadata": {},
     "output_type": "execute_result"
    }
   ],
   "source": [
    "# Data of orignal output, WE already have.\n",
    "ytest.head()"
   ]
  },
  {
   "cell_type": "code",
   "execution_count": 35,
   "metadata": {},
   "outputs": [
    {
     "data": {
      "text/plain": [
       "47637643464.52212"
      ]
     },
     "execution_count": 35,
     "metadata": {},
     "output_type": "execute_result"
    }
   ],
   "source": [
    "# Mean Square error calculation\n",
    "ms(ytest, yp)"
   ]
  },
  {
   "cell_type": "markdown",
   "metadata": {},
   "source": [
    "The mean square error is very large.\n",
    "This means this model of Linear Regression is not effective for given data ofCovid-19 case "
   ]
  },
  {
   "cell_type": "code",
   "execution_count": null,
   "metadata": {},
   "outputs": [],
   "source": []
  }
 ],
 "metadata": {
  "kernelspec": {
   "display_name": "Python 3",
   "language": "python",
   "name": "python3"
  },
  "language_info": {
   "codemirror_mode": {
    "name": "ipython",
    "version": 3
   },
   "file_extension": ".py",
   "mimetype": "text/x-python",
   "name": "python",
   "nbconvert_exporter": "python",
   "pygments_lexer": "ipython3",
   "version": "3.8.5"
  }
 },
 "nbformat": 4,
 "nbformat_minor": 4
}
